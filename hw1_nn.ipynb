{
  "nbformat": 4,
  "nbformat_minor": 0,
  "metadata": {
    "colab": {
      "name": "hw1_nn.ipynb",
      "provenance": []
    },
    "kernelspec": {
      "name": "python3",
      "display_name": "Python 3"
    },
    "language_info": {
      "name": "python"
    }
  },
  "cells": [
    {
      "cell_type": "markdown",
      "metadata": {
        "id": "Xp06CVjJQPJ6"
      },
      "source": [
        "##ДЗ по МО##\n"
      ]
    },
    {
      "cell_type": "markdown",
      "metadata": {
        "id": "-UziNxW7m3ZI"
      },
      "source": [
        "Первая часть. Угадываем цену по описанию."
      ]
    },
    {
      "cell_type": "code",
      "metadata": {
        "id": "9fjRA7yAQOTU"
      },
      "source": [
        "import pandas as pd"
      ],
      "execution_count": 4,
      "outputs": []
    },
    {
      "cell_type": "code",
      "metadata": {
        "id": "5hP6g3JHY3J2"
      },
      "source": [
        "import seaborn as sns\n",
        "import matplotlib.pyplot as plt\n",
        "%matplotlib inline"
      ],
      "execution_count": 5,
      "outputs": []
    },
    {
      "cell_type": "code",
      "metadata": {
        "id": "O32Vif_jQ6_w"
      },
      "source": [
        "file = pd.read_csv('Shoes_Data.csv')"
      ],
      "execution_count": 6,
      "outputs": []
    },
    {
      "cell_type": "code",
      "metadata": {
        "id": "1qH7XpdSp7TU"
      },
      "source": [
        "data = file\n",
        "df = file[[\"reviews\", \"reviews_rating\"]]"
      ],
      "execution_count": 7,
      "outputs": []
    },
    {
      "cell_type": "markdown",
      "metadata": {
        "id": "M49LpVPanFaG"
      },
      "source": [
        "Удалим строчки с одинаковым описанием: это дубликаты.\n"
      ]
    },
    {
      "cell_type": "code",
      "metadata": {
        "id": "QDvq1LJER0F4"
      },
      "source": [
        "data = data.drop_duplicates(subset = 'product_description')"
      ],
      "execution_count": 9,
      "outputs": []
    },
    {
      "cell_type": "markdown",
      "metadata": {
        "id": "z_m-sEXPnLUm"
      },
      "source": [
        "Добавим столбец с длинной описания в символах."
      ]
    },
    {
      "cell_type": "code",
      "metadata": {
        "colab": {
          "base_uri": "https://localhost:8080/"
        },
        "id": "yabQ7fs-V8_D",
        "outputId": "67d2491d-c86b-4abe-f58c-2b035881d123"
      },
      "source": [
        "data['text_len'] = data['product_description'].apply(len)"
      ],
      "execution_count": 10,
      "outputs": [
        {
          "output_type": "stream",
          "name": "stderr",
          "text": [
            "/usr/local/lib/python3.7/dist-packages/ipykernel_launcher.py:1: SettingWithCopyWarning: \n",
            "A value is trying to be set on a copy of a slice from a DataFrame.\n",
            "Try using .loc[row_indexer,col_indexer] = value instead\n",
            "\n",
            "See the caveats in the documentation: https://pandas.pydata.org/pandas-docs/stable/user_guide/indexing.html#returning-a-view-versus-a-copy\n",
            "  \"\"\"Entry point for launching an IPython kernel.\n"
          ]
        }
      ]
    },
    {
      "cell_type": "code",
      "metadata": {
        "colab": {
          "base_uri": "https://localhost:8080/",
          "height": 964
        },
        "id": "9lGiqwnnWGwA",
        "outputId": "77c9c06d-a5cd-488b-bee4-550146f8ad66"
      },
      "source": [
        "data"
      ],
      "execution_count": 11,
      "outputs": [
        {
          "output_type": "execute_result",
          "data": {
            "text/html": [
              "<div>\n",
              "<style scoped>\n",
              "    .dataframe tbody tr th:only-of-type {\n",
              "        vertical-align: middle;\n",
              "    }\n",
              "\n",
              "    .dataframe tbody tr th {\n",
              "        vertical-align: top;\n",
              "    }\n",
              "\n",
              "    .dataframe thead th {\n",
              "        text-align: right;\n",
              "    }\n",
              "</style>\n",
              "<table border=\"1\" class=\"dataframe\">\n",
              "  <thead>\n",
              "    <tr style=\"text-align: right;\">\n",
              "      <th></th>\n",
              "      <th>title</th>\n",
              "      <th>price</th>\n",
              "      <th>rating</th>\n",
              "      <th>total_reviews</th>\n",
              "      <th>product_description</th>\n",
              "      <th>reviews</th>\n",
              "      <th>reviews_rating</th>\n",
              "      <th>Shoe Type</th>\n",
              "      <th>text_len</th>\n",
              "    </tr>\n",
              "  </thead>\n",
              "  <tbody>\n",
              "    <tr>\n",
              "      <th>0</th>\n",
              "      <td>CLYMB Outdoor Sports Running Shoes for Mens Boy</td>\n",
              "      <td>₹279.00</td>\n",
              "      <td>2.9 out of 5 stars</td>\n",
              "      <td>2389 ratings</td>\n",
              "      <td>Elevate your style with this classy pair of Ru...</td>\n",
              "      <td>Not happy with product|| It's not as expected....</td>\n",
              "      <td>1.0 out of 5 stars|| 1.0 out of 5 stars|| 3.0 ...</td>\n",
              "      <td>Men</td>\n",
              "      <td>222</td>\n",
              "    </tr>\n",
              "    <tr>\n",
              "      <th>1</th>\n",
              "      <td>Bourge Men's Loire-z126 Running Shoes</td>\n",
              "      <td>₹479.00</td>\n",
              "      <td>3.9 out of 5 stars</td>\n",
              "      <td>11520 ratings</td>\n",
              "      <td>The product will be an excellent pick for you....</td>\n",
              "      <td>Memory cushioning in these shoes is the best f...</td>\n",
              "      <td>5.0 out of 5 stars|| 1.0 out of 5 stars|| 5.0 ...</td>\n",
              "      <td>Men</td>\n",
              "      <td>78</td>\n",
              "    </tr>\n",
              "    <tr>\n",
              "      <th>2</th>\n",
              "      <td>T-Rock Men's Sneaker</td>\n",
              "      <td>₹430.00</td>\n",
              "      <td>3.3 out of 5 stars</td>\n",
              "      <td>1251 ratings</td>\n",
              "      <td>Flaunt with these stylish and unique red casua...</td>\n",
              "      <td>Worth to its amount|| Go for it|| Perfect|| 5 ...</td>\n",
              "      <td>5.0 out of 5 stars|| 5.0 out of 5 stars|| 5.0 ...</td>\n",
              "      <td>Men</td>\n",
              "      <td>398</td>\n",
              "    </tr>\n",
              "    <tr>\n",
              "      <th>3</th>\n",
              "      <td>Robbie jones Sneakers Casual Canvas Fabric Col...</td>\n",
              "      <td>₹499.00</td>\n",
              "      <td>4.2 out of 5 stars</td>\n",
              "      <td>3 ratings</td>\n",
              "      <td>Robbie Jones Shoes Are Designed To Keeping In ...</td>\n",
              "      <td>Sup quality|| Good but not expected|| Awesome 👌.!</td>\n",
              "      <td>5.0 out of 5 stars|| 3.0 out of 5 stars|| 5.0 ...</td>\n",
              "      <td>Men</td>\n",
              "      <td>576</td>\n",
              "    </tr>\n",
              "    <tr>\n",
              "      <th>4</th>\n",
              "      <td>Sparx Men's Sd0323g Sneakers</td>\n",
              "      <td>₹499.00</td>\n",
              "      <td>4.2 out of 5 stars</td>\n",
              "      <td>20110 ratings</td>\n",
              "      <td>Sparx is a spectacular range of footwear from ...</td>\n",
              "      <td>Best|| Satisfied!|| Affordable beauty 😘😘😘😘 the...</td>\n",
              "      <td>5.0 out of 5 stars|| 5.0 out of 5 stars|| 5.0 ...</td>\n",
              "      <td>Men</td>\n",
              "      <td>1030</td>\n",
              "    </tr>\n",
              "    <tr>\n",
              "      <th>...</th>\n",
              "      <td>...</td>\n",
              "      <td>...</td>\n",
              "      <td>...</td>\n",
              "      <td>...</td>\n",
              "      <td>...</td>\n",
              "      <td>...</td>\n",
              "      <td>...</td>\n",
              "      <td>...</td>\n",
              "      <td>...</td>\n",
              "    </tr>\n",
              "    <tr>\n",
              "      <th>1193</th>\n",
              "      <td>Nike Men's React Vision Running Shoes</td>\n",
              "      <td>₹7256.00</td>\n",
              "      <td>4.4 out of 5 stars</td>\n",
              "      <td>200 ratings</td>\n",
              "      <td>The Nike react vision is a STORY of surreal co...</td>\n",
              "      <td>Must buy|| not have a great fiting but great q...</td>\n",
              "      <td>5.0 out of 5 stars|| 3.0 out of 5 stars|| 5.0 ...</td>\n",
              "      <td>Women</td>\n",
              "      <td>237</td>\n",
              "    </tr>\n",
              "    <tr>\n",
              "      <th>1194</th>\n",
              "      <td>Puma Men's B.O.G Limitless Hi Evoknit Sneakers</td>\n",
              "      <td>₹5822.00</td>\n",
              "      <td>4.3 out of 5 stars</td>\n",
              "      <td>25 ratings</td>\n",
              "      <td>The B.O.G limitless is Puma's key style for th...</td>\n",
              "      <td>Worth buying !|| Classy Bold and Stylish !!|| ...</td>\n",
              "      <td>4.0 out of 5 stars|| 5.0 out of 5 stars|| 3.0 ...</td>\n",
              "      <td>Women</td>\n",
              "      <td>876</td>\n",
              "    </tr>\n",
              "    <tr>\n",
              "      <th>1195</th>\n",
              "      <td>new balance Women's FuelCell Echolucent Runnin...</td>\n",
              "      <td>₹5362.00</td>\n",
              "      <td>4.5 out of 5 stars</td>\n",
              "      <td>817 ratings</td>\n",
              "      <td>Lead the pack in New Balance’s Echolucent snea...</td>\n",
              "      <td>size variation in product recd n size chart|| ...</td>\n",
              "      <td>5.0 out of 5 stars|| 5.0 out of 5 stars|| 5.0 ...</td>\n",
              "      <td>Women</td>\n",
              "      <td>311</td>\n",
              "    </tr>\n",
              "    <tr>\n",
              "      <th>1196</th>\n",
              "      <td>Nike Women's WMNS Air Zoom Pegasus 37 Running ...</td>\n",
              "      <td>₹7480.00</td>\n",
              "      <td>4.5 out of 5 stars</td>\n",
              "      <td>67 ratings</td>\n",
              "      <td>Nike మహిళల రన్నింగ్ షూ ఫీల్స్ మరియు రూపం మృదువ...</td>\n",
              "      <td>Verified Purchase|| Verified Purchase|| Verifi...</td>\n",
              "      <td>5.0 out of 5 stars|| 5.0 out of 5 stars|| 4.0 ...</td>\n",
              "      <td>Women</td>\n",
              "      <td>1629</td>\n",
              "    </tr>\n",
              "    <tr>\n",
              "      <th>1197</th>\n",
              "      <td>ASICS Women Gt-2000 7 Lite-Show Running Shoes</td>\n",
              "      <td>₹5719.00</td>\n",
              "      <td>4.1 out of 5 stars</td>\n",
              "      <td>210 ratings</td>\n",
              "      <td>The GT-2000 7 achieves a reassuringly firm rid...</td>\n",
              "      <td>Great shoe|| excellent quality|| Old manufactu...</td>\n",
              "      <td>5.0 out of 5 stars|| 5.0 out of 5 stars|| 3.0 ...</td>\n",
              "      <td>Women</td>\n",
              "      <td>153</td>\n",
              "    </tr>\n",
              "  </tbody>\n",
              "</table>\n",
              "<p>730 rows × 9 columns</p>\n",
              "</div>"
            ],
            "text/plain": [
              "                                                  title  ... text_len\n",
              "0       CLYMB Outdoor Sports Running Shoes for Mens Boy  ...      222\n",
              "1                 Bourge Men's Loire-z126 Running Shoes  ...       78\n",
              "2                                  T-Rock Men's Sneaker  ...      398\n",
              "3     Robbie jones Sneakers Casual Canvas Fabric Col...  ...      576\n",
              "4                          Sparx Men's Sd0323g Sneakers  ...     1030\n",
              "...                                                 ...  ...      ...\n",
              "1193              Nike Men's React Vision Running Shoes  ...      237\n",
              "1194     Puma Men's B.O.G Limitless Hi Evoknit Sneakers  ...      876\n",
              "1195  new balance Women's FuelCell Echolucent Runnin...  ...      311\n",
              "1196  Nike Women's WMNS Air Zoom Pegasus 37 Running ...  ...     1629\n",
              "1197      ASICS Women Gt-2000 7 Lite-Show Running Shoes  ...      153\n",
              "\n",
              "[730 rows x 9 columns]"
            ]
          },
          "metadata": {},
          "execution_count": 11
        }
      ]
    },
    {
      "cell_type": "markdown",
      "metadata": {
        "id": "U29xq3jHnTag"
      },
      "source": [
        "Выглядит довольно странно... Средняя длина видимо несколько сотен, а вот выбросов много и они гигантские.\n"
      ]
    },
    {
      "cell_type": "code",
      "metadata": {
        "colab": {
          "base_uri": "https://localhost:8080/",
          "height": 265
        },
        "id": "e5txFziQVvrB",
        "outputId": "5c6cfdc5-0993-49a0-fdaa-b7cdc43344e1"
      },
      "source": [
        "ax = sns.boxplot(data=data['text_len'])"
      ],
      "execution_count": 12,
      "outputs": [
        {
          "output_type": "display_data",
          "data": {
            "image/png": "[encoded data removed]",
            "text/plain": [
              "<Figure size 432x288 with 1 Axes>"
            ]
          },
          "metadata": {
            "needs_background": "light"
          }
        }
      ]
    },
    {
      "cell_type": "markdown",
      "metadata": {
        "id": "QvfyzUMSnl8_"
      },
      "source": [
        "Удалим стоп-слова, переведем описания в массивы из слов, которые туда входят."
      ]
    },
    {
      "cell_type": "code",
      "metadata": {
        "id": "CqkFSonQqP4l"
      },
      "source": [
        "import nltk"
      ],
      "execution_count": 13,
      "outputs": []
    },
    {
      "cell_type": "code",
      "metadata": {
        "colab": {
          "base_uri": "https://localhost:8080/"
        },
        "id": "kUTXNHxYUqaR",
        "outputId": "13584398-3ae7-4e15-ffec-7b1a232ca0c5"
      },
      "source": [
        "from nltk.tokenize import word_tokenize\n",
        "from nltk.corpus import stopwords\n",
        "from string import punctuation\n",
        "import string\n",
        "nltk.download('stopwords')\n",
        "nltk.download('punkt')\n",
        "nltk.download('words')"
      ],
      "execution_count": 14,
      "outputs": [
        {
          "output_type": "stream",
          "name": "stdout",
          "text": [
            "[nltk_data] Downloading package stopwords to /root/nltk_data...\n",
            "[nltk_data]   Unzipping corpora/stopwords.zip.\n",
            "[nltk_data] Downloading package punkt to /root/nltk_data...\n",
            "[nltk_data]   Unzipping tokenizers/punkt.zip.\n",
            "[nltk_data] Downloading package words to /root/nltk_data...\n",
            "[nltk_data]   Unzipping corpora/words.zip.\n"
          ]
        },
        {
          "output_type": "execute_result",
          "data": {
            "text/plain": [
              "True"
            ]
          },
          "metadata": {},
          "execution_count": 14
        }
      ]
    },
    {
      "cell_type": "code",
      "metadata": {
        "colab": {
          "base_uri": "https://localhost:8080/"
        },
        "id": "Q8FW_LAFaLvF",
        "outputId": "9c1a23da-fa4f-4ef1-d32c-7374bcfebf31"
      },
      "source": [
        "words = set(nltk.corpus.words.words())\n",
        "list_stopwords = set(stopwords.words('english'))\n",
        "data['product_description2'] = data['product_description'].str.lower()\n",
        "data['product_description2'] = data['product_description2'].apply(word_tokenize)\n",
        "data['product_description2'] = data['product_description2'].apply(lambda x: [word for word in x if word in words and word not in list_stopwords])\n",
        "data['product_description2'] = data['product_description2'].apply(lambda x : [word.translate(str.maketrans('', '', string.punctuation)) for word in x])\n",
        "data['product_description2'] = data['product_description2'].apply(lambda x : [word for word in x if len(word) > 1])"
      ],
      "execution_count": 15,
      "outputs": [
        {
          "output_type": "stream",
          "name": "stderr",
          "text": [
            "/usr/local/lib/python3.7/dist-packages/ipykernel_launcher.py:3: SettingWithCopyWarning: \n",
            "A value is trying to be set on a copy of a slice from a DataFrame.\n",
            "Try using .loc[row_indexer,col_indexer] = value instead\n",
            "\n",
            "See the caveats in the documentation: https://pandas.pydata.org/pandas-docs/stable/user_guide/indexing.html#returning-a-view-versus-a-copy\n",
            "  This is separate from the ipykernel package so we can avoid doing imports until\n",
            "/usr/local/lib/python3.7/dist-packages/ipykernel_launcher.py:4: SettingWithCopyWarning: \n",
            "A value is trying to be set on a copy of a slice from a DataFrame.\n",
            "Try using .loc[row_indexer,col_indexer] = value instead\n",
            "\n",
            "See the caveats in the documentation: https://pandas.pydata.org/pandas-docs/stable/user_guide/indexing.html#returning-a-view-versus-a-copy\n",
            "  after removing the cwd from sys.path.\n",
            "/usr/local/lib/python3.7/dist-packages/ipykernel_launcher.py:5: SettingWithCopyWarning: \n",
            "A value is trying to be set on a copy of a slice from a DataFrame.\n",
            "Try using .loc[row_indexer,col_indexer] = value instead\n",
            "\n",
            "See the caveats in the documentation: https://pandas.pydata.org/pandas-docs/stable/user_guide/indexing.html#returning-a-view-versus-a-copy\n",
            "  \"\"\"\n",
            "/usr/local/lib/python3.7/dist-packages/ipykernel_launcher.py:6: SettingWithCopyWarning: \n",
            "A value is trying to be set on a copy of a slice from a DataFrame.\n",
            "Try using .loc[row_indexer,col_indexer] = value instead\n",
            "\n",
            "See the caveats in the documentation: https://pandas.pydata.org/pandas-docs/stable/user_guide/indexing.html#returning-a-view-versus-a-copy\n",
            "  \n",
            "/usr/local/lib/python3.7/dist-packages/ipykernel_launcher.py:7: SettingWithCopyWarning: \n",
            "A value is trying to be set on a copy of a slice from a DataFrame.\n",
            "Try using .loc[row_indexer,col_indexer] = value instead\n",
            "\n",
            "See the caveats in the documentation: https://pandas.pydata.org/pandas-docs/stable/user_guide/indexing.html#returning-a-view-versus-a-copy\n",
            "  import sys\n"
          ]
        }
      ]
    },
    {
      "cell_type": "markdown",
      "metadata": {
        "id": "_V2pzmnunvyi"
      },
      "source": [
        "Посчитаем количество слов в описании."
      ]
    },
    {
      "cell_type": "code",
      "metadata": {
        "colab": {
          "base_uri": "https://localhost:8080/"
        },
        "id": "1_LkhcZWaxuL",
        "outputId": "f6514562-d1bc-4640-d609-12eef41eaeec"
      },
      "source": [
        "data['words_num'] = data['product_description2'].apply(len)"
      ],
      "execution_count": 16,
      "outputs": [
        {
          "output_type": "stream",
          "name": "stderr",
          "text": [
            "/usr/local/lib/python3.7/dist-packages/ipykernel_launcher.py:1: SettingWithCopyWarning: \n",
            "A value is trying to be set on a copy of a slice from a DataFrame.\n",
            "Try using .loc[row_indexer,col_indexer] = value instead\n",
            "\n",
            "See the caveats in the documentation: https://pandas.pydata.org/pandas-docs/stable/user_guide/indexing.html#returning-a-view-versus-a-copy\n",
            "  \"\"\"Entry point for launching an IPython kernel.\n"
          ]
        }
      ]
    },
    {
      "cell_type": "markdown",
      "metadata": {
        "id": "wXYM5M2yn1qa"
      },
      "source": [
        "Из цены удалим значок индийской рупии... и переведем ее в число"
      ]
    },
    {
      "cell_type": "code",
      "metadata": {
        "colab": {
          "base_uri": "https://localhost:8080/"
        },
        "id": "PvH8MQ5nr7o7",
        "outputId": "879d7a39-9399-4d2a-d821-66f70b1535b5"
      },
      "source": [
        "data['price']=data['price'].apply(lambda x: str(x).replace('₹','') if '₹' in str(x) else str(x))"
      ],
      "execution_count": 17,
      "outputs": [
        {
          "output_type": "stream",
          "name": "stderr",
          "text": [
            "/usr/local/lib/python3.7/dist-packages/ipykernel_launcher.py:1: SettingWithCopyWarning: \n",
            "A value is trying to be set on a copy of a slice from a DataFrame.\n",
            "Try using .loc[row_indexer,col_indexer] = value instead\n",
            "\n",
            "See the caveats in the documentation: https://pandas.pydata.org/pandas-docs/stable/user_guide/indexing.html#returning-a-view-versus-a-copy\n",
            "  \"\"\"Entry point for launching an IPython kernel.\n"
          ]
        }
      ]
    },
    {
      "cell_type": "code",
      "metadata": {
        "colab": {
          "base_uri": "https://localhost:8080/"
        },
        "id": "IGWvzbC-L0VR",
        "outputId": "085c6432-0e34-472d-8e88-e48c32f3ddb9"
      },
      "source": [
        "prices = [float(p) for p in data['price'].tolist()]\n",
        "data['price'] = prices"
      ],
      "execution_count": 82,
      "outputs": [
        {
          "output_type": "stream",
          "name": "stderr",
          "text": [
            "/usr/local/lib/python3.7/dist-packages/ipykernel_launcher.py:2: SettingWithCopyWarning: \n",
            "A value is trying to be set on a copy of a slice from a DataFrame.\n",
            "Try using .loc[row_indexer,col_indexer] = value instead\n",
            "\n",
            "See the caveats in the documentation: https://pandas.pydata.org/pandas-docs/stable/user_guide/indexing.html#returning-a-view-versus-a-copy\n",
            "  \n"
          ]
        }
      ]
    },
    {
      "cell_type": "markdown",
      "metadata": {
        "id": "OMWKO9iqn-8p"
      },
      "source": [
        "Посмотрим на распределения числа слов... Все еще так себе"
      ]
    },
    {
      "cell_type": "code",
      "metadata": {
        "colab": {
          "base_uri": "https://localhost:8080/",
          "height": 265
        },
        "id": "UNrtjcsJbJ9g",
        "outputId": "6c9a6ec9-7db2-4356-b55a-a1e1b768d007"
      },
      "source": [
        "ax = sns.boxplot(data=data['words_num'])"
      ],
      "execution_count": 85,
      "outputs": [
        {
          "output_type": "display_data",
          "data": {
            "image/png": "[encoded data removed]",
            "text/plain": [
              "<Figure size 432x288 with 1 Axes>"
            ]
          },
          "metadata": {
            "needs_background": "light"
          }
        }
      ]
    },
    {
      "cell_type": "code",
      "metadata": {
        "colab": {
          "base_uri": "https://localhost:8080/",
          "height": 280
        },
        "id": "hyIcvalsdhIv",
        "outputId": "317c0474-52dd-414b-bfc6-acf1e04360b0"
      },
      "source": [
        "ax = sns.histplot(data=data['words_num'])"
      ],
      "execution_count": 86,
      "outputs": [
        {
          "output_type": "display_data",
          "data": {
            "image/png": "[encoded data removed]",
            "text/plain": [
              "<Figure size 432x288 with 1 Axes>"
            ]
          },
          "metadata": {
            "needs_background": "light"
          }
        }
      ]
    },
    {
      "cell_type": "markdown",
      "metadata": {
        "id": "3q6HtBKYi9Co"
      },
      "source": [
        "Что у нас есть из анализа данных?\n",
        "\n",
        "*   убрали дубли по описаниям\n",
        "*   токенизировали описания\n",
        "*   добавили длину описания, по ней боксплот\n",
        "*   посчитали число токенов, по ним боксплот и гистограмма\n",
        "\n",
        "\n",
        "\n",
        "Теперь можно сказать, что все готово для МО. Погнали"
      ]
    },
    {
      "cell_type": "code",
      "metadata": {
        "id": "ffThZA4PjnPJ"
      },
      "source": [
        "from sklearn.feature_extraction.text import TfidfVectorizer, CountVectorizer\n",
        "from sklearn.linear_model import LinearRegression, Ridge, Lasso, ElasticNet\n",
        "from sklearn.svm import LinearSVR\n",
        "from sklearn.model_selection import train_test_split, GridSearchCV, KFold\n",
        "from sklearn.metrics import mean_squared_error\n",
        "from sklearn.metrics import r2_score"
      ],
      "execution_count": 22,
      "outputs": []
    },
    {
      "cell_type": "code",
      "metadata": {
        "id": "7c_O1ZAN4K0R"
      },
      "source": [
        "import sklearn"
      ],
      "execution_count": 23,
      "outputs": []
    },
    {
      "cell_type": "markdown",
      "metadata": {
        "id": "AMyCgjObQO08"
      },
      "source": [
        "Делаем векторизацию"
      ]
    },
    {
      "cell_type": "code",
      "metadata": {
        "id": "HkUCrptPn6w8"
      },
      "source": [
        "corpus = [' '.join(i) for i in list(data['product_description2'])]\n",
        "tfidf = TfidfVectorizer()\n",
        "X_tfidf = tfidf.fit_transform(corpus)\n",
        "y = data['price'].values\n",
        "X_train, X_test, y_train, y_test = train_test_split(X_tfidf, y, random_state=42)"
      ],
      "execution_count": 88,
      "outputs": []
    },
    {
      "cell_type": "code",
      "metadata": {
        "id": "0JewrNZkPH8Q"
      },
      "source": [
        "bow = CountVectorizer()\n",
        "X_bow = bow.fit_transform(corpus)\n",
        "y = data['price'].values\n",
        "X2_train, X2_test, y2_train, y2_test = train_test_split(X_bow, y, random_state=42)"
      ],
      "execution_count": 89,
      "outputs": []
    },
    {
      "cell_type": "markdown",
      "metadata": {
        "id": "_Y4CQlPGqNQi"
      },
      "source": [
        "линейная регрессия"
      ]
    },
    {
      "cell_type": "code",
      "metadata": {
        "id": "sCsLiomO6rFX"
      },
      "source": [
        "\n",
        "import numpy as np\n",
        "from sklearn.metrics import mean_squared_error"
      ],
      "execution_count": 26,
      "outputs": []
    },
    {
      "cell_type": "code",
      "metadata": {
        "colab": {
          "base_uri": "https://localhost:8080/"
        },
        "id": "Vo1ePuIZqO8-",
        "outputId": "a261a031-fa29-4a58-c1c7-560de5ef7a23"
      },
      "source": [
        "# на tfidf\n",
        "\n",
        "lin_reg = LinearRegression()\n",
        "\n",
        "linreg_params = {'fit_intercept': [True, False],\n",
        "                 'normalize': [True, False]\n",
        "                 }\n",
        "\n",
        "grid_search1 = GridSearchCV(lin_reg,\n",
        "                           param_grid=linreg_params,\n",
        "                           scoring='neg_mean_absolute_error',\n",
        "                           n_jobs=-1)\n",
        "\n",
        "grid_search1.fit(X_train, y_train)\n",
        "\n",
        "print('Best score: {}'.format(grid_search1.best_score_))\n",
        "print('Best parameters: {}'.format(grid_search1.best_params_))"
      ],
      "execution_count": 90,
      "outputs": [
        {
          "output_type": "stream",
          "name": "stdout",
          "text": [
            "Best score: -1151.5068323487744\n",
            "Best parameters: {'fit_intercept': True, 'normalize': True}\n"
          ]
        }
      ]
    },
    {
      "cell_type": "code",
      "metadata": {
        "colab": {
          "base_uri": "https://localhost:8080/"
        },
        "id": "qhRHGk7CtINL",
        "outputId": "3443203e-4f34-4eaf-aa6d-ae098994c6e7"
      },
      "source": [
        "#на мешке слов\n",
        "grid_search2 = GridSearchCV(lin_reg,\n",
        "                           param_grid=linreg_params,\n",
        "                           scoring='neg_mean_absolute_error',\n",
        "                           n_jobs=-1)\n",
        "\n",
        "grid_search2.fit(X2_train, y2_train)\n",
        "\n",
        "print('Best score: {}'.format(grid_search2.best_score_))\n",
        "print('Best parameters: {}'.format(grid_search2.best_params_))"
      ],
      "execution_count": 91,
      "outputs": [
        {
          "output_type": "stream",
          "name": "stdout",
          "text": [
            "Best score: -1858.127581420917\n",
            "Best parameters: {'fit_intercept': True, 'normalize': True}\n"
          ]
        }
      ]
    },
    {
      "cell_type": "markdown",
      "metadata": {
        "id": "4yS9f7S5qLyE"
      },
      "source": [
        "ридж\n"
      ]
    },
    {
      "cell_type": "code",
      "metadata": {
        "colab": {
          "base_uri": "https://localhost:8080/"
        },
        "id": "h5cy-jxwtr-K",
        "outputId": "e9d26480-0622-4b04-c253-96d62bfdc4f2"
      },
      "source": [
        "#на tfidf\n",
        "regressor = Ridge()\n",
        "\n",
        "ridge_params = {'alpha': [0.05, 0.1, 0.15, 0.5, 1, 2],\n",
        "                'fit_intercept': [True, False],\n",
        "                'normalize': [True, False],\n",
        "                'solver': ['auto', 'svd', 'cholesky',\n",
        "                           'lsqr', 'sparse_cg', 'saga'],\n",
        "                'random_state': [0]\n",
        "                }\n",
        "\n",
        "grid_search3 = GridSearchCV(regressor,\n",
        "                           param_grid=ridge_params,\n",
        "                           scoring='neg_mean_absolute_error',\n",
        "                           n_jobs=-1)\n",
        "\n",
        "grid_search3.fit(X_train, y_train)\n",
        "\n",
        "print('Best score: {}'.format(grid_search3.best_score_))\n",
        "print('Best parameters: {}'.format(grid_search3.best_params_))"
      ],
      "execution_count": 92,
      "outputs": [
        {
          "output_type": "stream",
          "name": "stdout",
          "text": [
            "Best score: -956.5045590190832\n",
            "Best parameters: {'alpha': 1, 'fit_intercept': True, 'normalize': True, 'random_state': 0, 'solver': 'auto'}\n"
          ]
        }
      ]
    },
    {
      "cell_type": "code",
      "metadata": {
        "colab": {
          "base_uri": "https://localhost:8080/"
        },
        "id": "mT8BWdCMohbV",
        "outputId": "9d6d7d0f-ec60-47f7-9e11-cfc70457df1e"
      },
      "source": [
        "#на каунтвекторайзере\n",
        "grid_search4 = GridSearchCV(regressor,\n",
        "                           param_grid=ridge_params,\n",
        "                           scoring='neg_mean_absolute_error',\n",
        "                           n_jobs=-1)\n",
        "\n",
        "grid_search4.fit(X2_train, y2_train)\n",
        "\n",
        "print('Best score: {}'.format(grid_search4.best_score_))\n",
        "print('Best parameters: {}'.format(grid_search4.best_params_))"
      ],
      "execution_count": 93,
      "outputs": [
        {
          "output_type": "stream",
          "name": "stdout",
          "text": [
            "Best score: -981.3807331351958\n",
            "Best parameters: {'alpha': 2, 'fit_intercept': True, 'normalize': True, 'random_state': 0, 'solver': 'auto'}\n"
          ]
        }
      ]
    },
    {
      "cell_type": "markdown",
      "metadata": {
        "id": "rOB4dbDguSOj"
      },
      "source": [
        "Итак, получилось что лучше всего работает ридж на тфидф векторайзере. В принципе это логично: ридж это улучшение линейной регрессии, а тфидф более продвинутый, чем каунтвекторайзер."
      ]
    },
    {
      "cell_type": "code",
      "metadata": {
        "colab": {
          "base_uri": "https://localhost:8080/"
        },
        "id": "Ni98jV_yvYzg",
        "outputId": "c1a6625f-7cb3-4eae-9513-9127049844c3"
      },
      "source": [
        "from sklearn.metrics import mean_absolute_error\n",
        "preds = grid_search3.predict(X_test)\n",
        "mean_absolute_error(y_test, preds)"
      ],
      "execution_count": 94,
      "outputs": [
        {
          "output_type": "execute_result",
          "data": {
            "text/plain": [
              "886.0895393546297"
            ]
          },
          "metadata": {},
          "execution_count": 94
        }
      ]
    },
    {
      "cell_type": "markdown",
      "metadata": {
        "id": "9XzeX9gSJFCL"
      },
      "source": [
        "Вот такая вот средняя ошибка получается!\n",
        "\n",
        "Проанализируем результаты.\n",
        "\n",
        "Построим графчичек"
      ]
    },
    {
      "cell_type": "code",
      "metadata": {
        "colab": {
          "base_uri": "https://localhost:8080/",
          "height": 281
        },
        "id": "tHKK52dLJLYn",
        "outputId": "0ed4981e-791d-4988-f44a-9e8bd038c8fe"
      },
      "source": [
        "_, ax = plt.subplots()\n",
        "\n",
        "ax.scatter(x=range(0, y_test.size), y=y_test,\n",
        "           c='blue', label='Actual', alpha=0.3)\n",
        "ax.scatter(x=range(0, preds.size), y=preds,\n",
        "           c='red', label='Predicted', alpha=0.3)\n",
        "\n",
        "plt.title('Actual and predicted prices')\n",
        "plt.ylabel('price')\n",
        "plt.legend()\n",
        "plt.show()"
      ],
      "execution_count": 95,
      "outputs": [
        {
          "output_type": "display_data",
          "data": {
            "image/png": "[encoded data removed]",
            "text/plain": [
              "<Figure size 432x288 with 1 Axes>"
            ]
          },
          "metadata": {
            "needs_background": "light"
          }
        }
      ]
    },
    {
      "cell_type": "markdown",
      "metadata": {
        "id": "7TBARg77M8B6"
      },
      "source": [
        "Ладно, ничего не понятно, кроме того, что когда реальная цена большая, то это плохо угадывается, посмотрим вблизи"
      ]
    },
    {
      "cell_type": "code",
      "metadata": {
        "colab": {
          "base_uri": "https://localhost:8080/",
          "height": 281
        },
        "id": "qI7nilvkMoE8",
        "outputId": "2caa8ada-997d-48fe-df57-5f0884126acc"
      },
      "source": [
        "_, ax = plt.subplots()\n",
        "\n",
        "ax.scatter(x=range(0, 30), y=y_test[0:30],\n",
        "           c='blue', label='Actual', alpha=0.3)\n",
        "ax.scatter(x=range(0, 30), y=preds[0:30],\n",
        "           c='red', label='Predicted', alpha=0.3)\n",
        "\n",
        "plt.title('Actual and predicted prices')\n",
        "plt.ylabel('price')\n",
        "plt.legend()\n",
        "plt.show()"
      ],
      "execution_count": 97,
      "outputs": [
        {
          "output_type": "display_data",
          "data": {
            "image/png": "[encoded data removed]",
            "text/plain": [
              "<Figure size 432x288 with 1 Axes>"
            ]
          },
          "metadata": {
            "needs_background": "light"
          }
        }
      ]
    },
    {
      "cell_type": "markdown",
      "metadata": {
        "id": "x6WlQH8rNkcC"
      },
      "source": [
        "Ладно, тут ничего нового, посмотрим тогда на распределение разности предикшна и реальной цены"
      ]
    },
    {
      "cell_type": "code",
      "metadata": {
        "colab": {
          "base_uri": "https://localhost:8080/",
          "height": 265
        },
        "id": "z0_dO6bTNJxx",
        "outputId": "31f424ac-6d89-4c9c-adcd-720cbd19a7b0"
      },
      "source": [
        "difs = []\n",
        "for i in range(y_test.size):\n",
        "  difs.append(preds[i]-y_test[i])\n",
        "\n",
        "ax = sns.histplot(data=difs)"
      ],
      "execution_count": 98,
      "outputs": [
        {
          "output_type": "display_data",
          "data": {
            "image/png": "[encoded data removed]",
            "text/plain": [
              "<Figure size 432x288 with 1 Axes>"
            ]
          },
          "metadata": {
            "needs_background": "light"
          }
        }
      ]
    },
    {
      "cell_type": "markdown",
      "metadata": {
        "id": "W2SaX0nBNvB3"
      },
      "source": [
        "Ну, вот: мы видим что довольно многое угадалось неплохо, а распределения выглядят по-разному слева и справа: положительная разница получается для дешевых моделей, которые определили как более дорогие, и таких много, но разность меньше. А дорогих моделей, которые определили как дешевые для каждой разности мало, зато больше разброс расстояний между реальной ценой и угаданной."
      ]
    },
    {
      "cell_type": "code",
      "metadata": {
        "colab": {
          "base_uri": "https://localhost:8080/"
        },
        "id": "gsw-HMs1OYvx",
        "outputId": "8d602e61-5c9a-49f6-c456-d8eb9cdc2546"
      },
      "source": [
        "good_predicted = []\n",
        "for i in range(len(difs)):\n",
        "  if difs[i] > -100 and difs[i] < 100:\n",
        "    good_predicted.append(y_test[i])\n",
        "\n",
        "print(min(good_predicted))\n",
        "print(max(good_predicted))"
      ],
      "execution_count": 104,
      "outputs": [
        {
          "output_type": "stream",
          "name": "stdout",
          "text": [
            "319.0\n",
            "3079.0\n"
          ]
        }
      ]
    },
    {
      "cell_type": "markdown",
      "metadata": {
        "id": "zDLNeBqnPN17"
      },
      "source": [
        "Я попробовала предположить что хорошо угаданные будут в маленьком ценовом диапазоне, но это не так - разница в 100 есть и у кроссовок за 319, и у кроссовок за 3079...\n",
        "\n",
        "Итак, вывод: модель хорошо работает ИНОГДА, чуть чаще на недорогих кроссовках."
      ]
    },
    {
      "cell_type": "markdown",
      "metadata": {
        "id": "SypWhWKVyjpK"
      },
      "source": [
        "## Перейдем к задаче номер 2...\n",
        "\n",
        "Очень удачно, что прямо на кегле можно посмотреть как обработать данные для этой задачи))))\n",
        "\n",
        "сначала делаем датафрейм отдельный из комментариев и рейтингов"
      ]
    },
    {
      "cell_type": "code",
      "metadata": {
        "id": "CZEYV3xJqCUO"
      },
      "source": [
        "rew  = []\n",
        "rat = []\n",
        "\n",
        "for j in df.index:\n",
        "    lst = [i for i in df.iloc[j].reviews.split('||')]\n",
        "    for k in lst:\n",
        "        rew.append(k)\n",
        "        \n",
        "for j in df.index:\n",
        "    lst = [i for i in df.iloc[j].reviews_rating.split('||')]\n",
        "    for k in lst:\n",
        "        rat.append(k)\n",
        "        \n",
        "df = pd.DataFrame(list(zip(rew, rat)),\n",
        "               columns =['Review', 'Review_rating'])"
      ],
      "execution_count": 42,
      "outputs": []
    },
    {
      "cell_type": "code",
      "metadata": {
        "colab": {
          "base_uri": "https://localhost:8080/",
          "height": 204
        },
        "id": "XsP2znEBqF9s",
        "outputId": "18b7d290-caa4-466f-cb0b-9652534ac82b"
      },
      "source": [
        "df.head()"
      ],
      "execution_count": 43,
      "outputs": [
        {
          "output_type": "execute_result",
          "data": {
            "text/html": [
              "<div>\n",
              "<style scoped>\n",
              "    .dataframe tbody tr th:only-of-type {\n",
              "        vertical-align: middle;\n",
              "    }\n",
              "\n",
              "    .dataframe tbody tr th {\n",
              "        vertical-align: top;\n",
              "    }\n",
              "\n",
              "    .dataframe thead th {\n",
              "        text-align: right;\n",
              "    }\n",
              "</style>\n",
              "<table border=\"1\" class=\"dataframe\">\n",
              "  <thead>\n",
              "    <tr style=\"text-align: right;\">\n",
              "      <th></th>\n",
              "      <th>Review</th>\n",
              "      <th>Review_rating</th>\n",
              "    </tr>\n",
              "  </thead>\n",
              "  <tbody>\n",
              "    <tr>\n",
              "      <th>0</th>\n",
              "      <td>Not happy with product</td>\n",
              "      <td>1.0 out of 5 stars</td>\n",
              "    </tr>\n",
              "    <tr>\n",
              "      <th>1</th>\n",
              "      <td>It's not as expected.</td>\n",
              "      <td>1.0 out of 5 stars</td>\n",
              "    </tr>\n",
              "    <tr>\n",
              "      <th>2</th>\n",
              "      <td>AVERAGE PRODUCT</td>\n",
              "      <td>3.0 out of 5 stars</td>\n",
              "    </tr>\n",
              "    <tr>\n",
              "      <th>3</th>\n",
              "      <td>Pic more beautiful</td>\n",
              "      <td>3.0 out of 5 stars</td>\n",
              "    </tr>\n",
              "    <tr>\n",
              "      <th>4</th>\n",
              "      <td>Got damage product. But quality is average fo...</td>\n",
              "      <td>3.0 out of 5 stars</td>\n",
              "    </tr>\n",
              "  </tbody>\n",
              "</table>\n",
              "</div>"
            ],
            "text/plain": [
              "                                              Review        Review_rating\n",
              "0                             Not happy with product   1.0 out of 5 stars\n",
              "1                              It's not as expected.   1.0 out of 5 stars\n",
              "2                                    AVERAGE PRODUCT   3.0 out of 5 stars\n",
              "3                                 Pic more beautiful   3.0 out of 5 stars\n",
              "4   Got damage product. But quality is average fo...   3.0 out of 5 stars"
            ]
          },
          "metadata": {},
          "execution_count": 43
        }
      ]
    },
    {
      "cell_type": "markdown",
      "metadata": {
        "id": "VZOLXTnvVSMJ"
      },
      "source": [
        "Теперь удаляем все ненужное"
      ]
    },
    {
      "cell_type": "code",
      "metadata": {
        "id": "RgRKuyAmqnqx"
      },
      "source": [
        "import re\n",
        "\n",
        "def lower(text):\n",
        "    return text.lower()\n",
        "\n",
        "def remove_punctuation(text):\n",
        "    return text.translate(str.maketrans('','', punctuation))\n",
        "\n",
        "def remove_stopwords(text):\n",
        "    return \" \".join([word for word in str(text).split() if word not in stop])\n",
        "\n",
        "# Removing all words with digits and standalone digits\n",
        "def remove_digits(text):\n",
        "    return re.sub(r'\\d+', '', text)\n",
        "\n",
        "def remove_emoji(text):\n",
        "    emoji_pattern = re.compile(\"[\"\n",
        "                           u\"\\U0001F600-\\U0001F64F\"  # emoticons\n",
        "                           u\"\\U0001F300-\\U0001F5FF\"  # symbols & pictographs\n",
        "                           u\"\\U0001F680-\\U0001F6FF\"  # transport & map symbols\n",
        "                           u\"\\U0001F1E0-\\U0001F1FF\"  # flags (iOS)\n",
        "                           u\"\\U00002702-\\U000027B0\"\n",
        "                           u\"\\U000024C2-\\U0001F251\"\n",
        "                           \"]+\", flags=re.UNICODE)\n",
        "    return emoji_pattern.sub(r'', text)\n",
        "\n",
        "# Removing all non-printable symbols like \"ड\", \"ட\"\n",
        "def remove_non_printable(text):\n",
        "    text = text.encode(\"ascii\", \"ignore\")\n",
        "    return text.decode()\n",
        "        \n",
        "# One function to clean it all\n",
        "def clean_text(text):\n",
        "    text = lower(text)\n",
        "    text = remove_punctuation(text)\n",
        "    #text = remove_stopwords(text)\n",
        "    text = remove_digits(text)\n",
        "    text = remove_emoji(text)\n",
        "    text = remove_non_printable(text)\n",
        "    return text"
      ],
      "execution_count": 44,
      "outputs": []
    },
    {
      "cell_type": "markdown",
      "metadata": {
        "id": "EwwSp_osVbTp"
      },
      "source": [
        "Ну и собираем красиво"
      ]
    },
    {
      "cell_type": "code",
      "metadata": {
        "id": "et77Viq4qo-d"
      },
      "source": [
        "def get_first_digit(text):\n",
        "    match = re.search(r'\\d', text)\n",
        "    return match[0]"
      ],
      "execution_count": 45,
      "outputs": []
    },
    {
      "cell_type": "code",
      "metadata": {
        "colab": {
          "base_uri": "https://localhost:8080/",
          "height": 204
        },
        "id": "eu9dKRWHqrhG",
        "outputId": "d217c373-3398-4dc7-fc99-893d8537c1f7"
      },
      "source": [
        "df['Review_rating']=df['Review_rating'].apply(get_first_digit)\n",
        "df['clean_review']=df['Review'].apply(clean_text)\n",
        "df.head()"
      ],
      "execution_count": 46,
      "outputs": [
        {
          "output_type": "execute_result",
          "data": {
            "text/html": [
              "<div>\n",
              "<style scoped>\n",
              "    .dataframe tbody tr th:only-of-type {\n",
              "        vertical-align: middle;\n",
              "    }\n",
              "\n",
              "    .dataframe tbody tr th {\n",
              "        vertical-align: top;\n",
              "    }\n",
              "\n",
              "    .dataframe thead th {\n",
              "        text-align: right;\n",
              "    }\n",
              "</style>\n",
              "<table border=\"1\" class=\"dataframe\">\n",
              "  <thead>\n",
              "    <tr style=\"text-align: right;\">\n",
              "      <th></th>\n",
              "      <th>Review</th>\n",
              "      <th>Review_rating</th>\n",
              "      <th>clean_review</th>\n",
              "    </tr>\n",
              "  </thead>\n",
              "  <tbody>\n",
              "    <tr>\n",
              "      <th>0</th>\n",
              "      <td>Not happy with product</td>\n",
              "      <td>1</td>\n",
              "      <td>not happy with product</td>\n",
              "    </tr>\n",
              "    <tr>\n",
              "      <th>1</th>\n",
              "      <td>It's not as expected.</td>\n",
              "      <td>1</td>\n",
              "      <td>its not as expected</td>\n",
              "    </tr>\n",
              "    <tr>\n",
              "      <th>2</th>\n",
              "      <td>AVERAGE PRODUCT</td>\n",
              "      <td>3</td>\n",
              "      <td>average product</td>\n",
              "    </tr>\n",
              "    <tr>\n",
              "      <th>3</th>\n",
              "      <td>Pic more beautiful</td>\n",
              "      <td>3</td>\n",
              "      <td>pic more beautiful</td>\n",
              "    </tr>\n",
              "    <tr>\n",
              "      <th>4</th>\n",
              "      <td>Got damage product. But quality is average fo...</td>\n",
              "      <td>3</td>\n",
              "      <td>got damage product but quality is average for</td>\n",
              "    </tr>\n",
              "  </tbody>\n",
              "</table>\n",
              "</div>"
            ],
            "text/plain": [
              "                                              Review  ...                                     clean_review\n",
              "0                             Not happy with product  ...                           not happy with product\n",
              "1                              It's not as expected.  ...                              its not as expected\n",
              "2                                    AVERAGE PRODUCT  ...                                  average product\n",
              "3                                 Pic more beautiful  ...                               pic more beautiful\n",
              "4   Got damage product. But quality is average fo...  ...   got damage product but quality is average for \n",
              "\n",
              "[5 rows x 3 columns]"
            ]
          },
          "metadata": {},
          "execution_count": 46
        }
      ]
    },
    {
      "cell_type": "markdown",
      "metadata": {
        "id": "wdqs6OP-VeaH"
      },
      "source": [
        "Пора посмотреть, что получилось. Сколько каких рейтингов?"
      ]
    },
    {
      "cell_type": "code",
      "metadata": {
        "colab": {
          "base_uri": "https://localhost:8080/",
          "height": 280
        },
        "id": "n_i7H1oEWWUg",
        "outputId": "eafda862-119e-42b8-b55f-4bea9e892a11"
      },
      "source": [
        "ax = sns.histplot(data=df['Review_rating'])"
      ],
      "execution_count": 106,
      "outputs": [
        {
          "output_type": "display_data",
          "data": {
            "image/png": "[encoded data removed]",
            "text/plain": [
              "<Figure size 432x288 with 1 Axes>"
            ]
          },
          "metadata": {
            "needs_background": "light"
          }
        }
      ]
    },
    {
      "cell_type": "markdown",
      "metadata": {
        "id": "VQbRZNKlWmHA"
      },
      "source": [
        "5-ок сильно больше чем всего остального.\n",
        "\n",
        "Не знаю, куда еще можно посмотреть, поэтому поехали дальше"
      ]
    },
    {
      "cell_type": "markdown",
      "metadata": {
        "id": "KUNFct6kQzyc"
      },
      "source": [
        "Сделаем векторизацию"
      ]
    },
    {
      "cell_type": "code",
      "metadata": {
        "id": "wTb9-ULpq3ii"
      },
      "source": [
        "corpus2 = [i for i in list(df['clean_review'])]\n",
        "tfidf = TfidfVectorizer()\n",
        "X_tfidf = tfidf.fit_transform(corpus2)\n",
        "y = df['Review_rating'].values\n",
        "X3_train, X3_test, y3_train, y3_test = train_test_split(X_tfidf, y, random_state=42)\n",
        "bow = CountVectorizer()\n",
        "X_bow = bow.fit_transform(corpus2)\n",
        "y_bow = df['Review_rating'].values\n",
        "X4_train, X4_test, y4_train, y4_test = train_test_split(X_bow, y_bow, random_state=42)\n"
      ],
      "execution_count": 47,
      "outputs": []
    },
    {
      "cell_type": "markdown",
      "metadata": {
        "id": "X2evd2d5XDzp"
      },
      "source": [
        "Теперь будем делать МО и выбирать лучшую модель и лучшие параметры"
      ]
    },
    {
      "cell_type": "code",
      "metadata": {
        "id": "3jNyXb64rbTU"
      },
      "source": [
        "from sklearn.linear_model import LogisticRegression\n",
        "from sklearn.naive_bayes import MultinomialNB"
      ],
      "execution_count": 55,
      "outputs": []
    },
    {
      "cell_type": "code",
      "metadata": {
        "colab": {
          "base_uri": "https://localhost:8080/"
        },
        "id": "L1Qmtf7SzfmK",
        "outputId": "7d0ffa57-e90a-4f87-dbfe-8d4ea16f52a2"
      },
      "source": [
        "logreg = LogisticRegression(max_iter=400)\n",
        "\n",
        "logreg_params = {'C': [0.5, 1.0, 1.5, 2.0],\n",
        "                 'penalty' : ['l2', 'l1'],\n",
        "                 'solver' : ['liblinear', 'saga'],\n",
        "                 'fit_intercept': [True, False],\n",
        "                 'class_weight': ['balanced', None],\n",
        "                 'random_state': [0]}\n",
        "\n",
        "logreg_cv = GridSearchCV(logreg,\n",
        "                         param_grid=logreg_params,\n",
        "                         cv=5,\n",
        "                         n_jobs=-1)\n",
        "\n",
        "logreg_cv.fit(X3_train, y3_train)\n",
        "\n",
        "print('Best score: {}'.format(logreg_cv.best_score_))\n",
        "print('Best parameters: {}'.format(logreg_cv.best_params_))"
      ],
      "execution_count": 68,
      "outputs": [
        {
          "output_type": "stream",
          "name": "stdout",
          "text": [
            "Best score: 0.6454190057842444\n",
            "Best parameters: {'C': 2.0, 'class_weight': None, 'fit_intercept': True, 'penalty': 'l2', 'random_state': 0, 'solver': 'saga'}\n"
          ]
        }
      ]
    },
    {
      "cell_type": "code",
      "metadata": {
        "colab": {
          "base_uri": "https://localhost:8080/"
        },
        "id": "1BH065kz2IZo",
        "outputId": "1973446e-e4ee-4518-cac1-b4939b8d9662"
      },
      "source": [
        "logreg_cv2 = GridSearchCV(logreg,\n",
        "                         param_grid=logreg_params,\n",
        "                         cv=5,\n",
        "                         n_jobs=-1)\n",
        "\n",
        "logreg_cv2.fit(X4_train, y4_train)\n",
        "\n",
        "print('Best score: {}'.format(logreg_cv2.best_score_))\n",
        "print('Best parameters: {}'.format(logreg_cv2.best_params_))"
      ],
      "execution_count": 69,
      "outputs": [
        {
          "output_type": "stream",
          "name": "stdout",
          "text": [
            "Best score: 0.6523819771158759\n",
            "Best parameters: {'C': 2.0, 'class_weight': None, 'fit_intercept': True, 'penalty': 'l2', 'random_state': 0, 'solver': 'saga'}\n"
          ]
        }
      ]
    },
    {
      "cell_type": "code",
      "metadata": {
        "colab": {
          "base_uri": "https://localhost:8080/"
        },
        "id": "pUyMK7tdy436",
        "outputId": "32ceeb65-4079-4e31-a280-cc0bec8e3394"
      },
      "source": [
        "mnb = MultinomialNB()\n",
        "\n",
        "mnb_params = {'alpha': [0.1, 0.5, 1.0, 1.5]}\n",
        "\n",
        "mnb_cv = GridSearchCV(mnb,\n",
        "                      param_grid=mnb_params,\n",
        "                      cv=5,\n",
        "                      n_jobs=-1)\n",
        "\n",
        "mnb_cv.fit(X3_train, y3_train)\n",
        "\n",
        "print('Best score: {}'.format(mnb_cv.best_score_))\n",
        "print('Best parameters: {}'.format(mnb_cv.best_params_))"
      ],
      "execution_count": 57,
      "outputs": [
        {
          "output_type": "stream",
          "name": "stdout",
          "text": [
            "Best score: 0.6348411282997585\n",
            "Best parameters: {'alpha': 0.5}\n"
          ]
        }
      ]
    },
    {
      "cell_type": "code",
      "metadata": {
        "colab": {
          "base_uri": "https://localhost:8080/"
        },
        "id": "b0wQ2uDlu809",
        "outputId": "5cf33d34-2671-4ab3-ac3c-560f5bea67db"
      },
      "source": [
        "mnb_cv2 = GridSearchCV(mnb,\n",
        "                      param_grid=mnb_params,\n",
        "                      cv=5,\n",
        "                      n_jobs=-1)\n",
        "\n",
        "mnb_cv2.fit(X4_train, y4_train)\n",
        "\n",
        "print('Best score: {}'.format(mnb_cv2.best_score_))\n",
        "print('Best parameters: {}'.format(mnb_cv2.best_params_))"
      ],
      "execution_count": 62,
      "outputs": [
        {
          "output_type": "stream",
          "name": "stdout",
          "text": [
            "Best score: 0.636982670579617\n",
            "Best parameters: {'alpha': 0.5}\n"
          ]
        }
      ]
    },
    {
      "cell_type": "markdown",
      "metadata": {
        "id": "MSpyGfSVGrx0"
      },
      "source": [
        "Лучше всего работает Байес с тфидф. Запустим его на тесте."
      ]
    },
    {
      "cell_type": "code",
      "metadata": {
        "id": "cJWD7CcBHp19"
      },
      "source": [
        "from sklearn.metrics import accuracy_score"
      ],
      "execution_count": 111,
      "outputs": []
    },
    {
      "cell_type": "code",
      "metadata": {
        "id": "USoedbHHsEL-"
      },
      "source": [
        "preds2 = mnb_cv.predict(X3_test)\n",
        "acc = accuracy_score(preds2, y3_test)"
      ],
      "execution_count": 113,
      "outputs": []
    },
    {
      "cell_type": "code",
      "metadata": {
        "colab": {
          "base_uri": "https://localhost:8080/"
        },
        "id": "PAgIrUCOH4q9",
        "outputId": "7bc4923e-4bec-4c24-b0f9-df49fb3fdf4e"
      },
      "source": [
        "acc"
      ],
      "execution_count": 114,
      "outputs": [
        {
          "output_type": "execute_result",
          "data": {
            "text/plain": [
              "0.6558232931726907"
            ]
          },
          "metadata": {},
          "execution_count": 114
        }
      ]
    },
    {
      "cell_type": "markdown",
      "metadata": {
        "id": "DdnaY71fXKad"
      },
      "source": [
        "Построим confusion matrix"
      ]
    },
    {
      "cell_type": "code",
      "metadata": {
        "id": "cnfSXM1NXj0O"
      },
      "source": [
        "from sklearn.metrics import confusion_matrix"
      ],
      "execution_count": 109,
      "outputs": []
    },
    {
      "cell_type": "code",
      "metadata": {
        "colab": {
          "base_uri": "https://localhost:8080/",
          "height": 283
        },
        "id": "QK5oBTE8XbHs",
        "outputId": "5d5d543c-dbb0-40bb-89fe-76cc3f331fae"
      },
      "source": [
        "sns.heatmap(data=confusion_matrix(preds2, y3_test),\n",
        "            annot=True, fmt='d', cbar=False,\n",
        "            xticklabels=[1, 2, 3, 4, 5], yticklabels=[1, 2, 3, 4, 5])"
      ],
      "execution_count": 116,
      "outputs": [
        {
          "output_type": "execute_result",
          "data": {
            "text/plain": [
              "<matplotlib.axes._subplots.AxesSubplot at 0x7f9d1ec0ab50>"
            ]
          },
          "metadata": {},
          "execution_count": 116
        },
        {
          "output_type": "display_data",
          "data": {
            "image/png": "[encoded data removed]",
            "text/plain": [
              "<Figure size 432x288 with 1 Axes>"
            ]
          },
          "metadata": {
            "needs_background": "light"
          }
        }
      ]
    },
    {
      "cell_type": "markdown",
      "metadata": {
        "id": "iFPLhzGKYMIG"
      },
      "source": [
        "Эххх, ну хорошо определяются отзывы с рейтингом 5 (что неудивительно, ведь их больше всего). И нормально определяются самые плохие. В принципе, это логично: полюса всегда отличить легче. Все остальное работает плохо)))) Например, отзывы на 5 и на 1 часто путаются. Но наверное это можно объяснить тем, что в них часто используются похожие слова: например, про качество будут скорее писать в полярных отзывах, типа \"качество зашибись\" и \"качество ужасное\"."
      ]
    }
  ]
}